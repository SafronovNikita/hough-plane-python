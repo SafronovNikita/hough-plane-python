{
 "cells": [
  {
   "cell_type": "code",
   "execution_count": null,
   "id": "3903f53f",
   "metadata": {},
   "outputs": [],
   "source": [
    "import sys\n",
    "import logging\n",
    "\n",
    "formatter = logging.Formatter('%(asctime)s - %(threadName)s - %(name)s - %(levelname)s - %(message)s')\n",
    "ch = logging.StreamHandler(sys.stdout)\n",
    "ch.setLevel(logging.DEBUG)\n",
    "ch.setFormatter(formatter)\n",
    "logging.basicConfig(level=logging.DEBUG, handlers=[ch])\n",
    "\n",
    "import open3d as o3d\n",
    "import numpy as np\n",
    "np.set_printoptions(suppress=True)\n",
    "\n",
    "import hough_plane_python as hpp\n",
    "import vizualization as viz"
   ]
  },
  {
   "cell_type": "markdown",
   "id": "40063475",
   "metadata": {},
   "source": [
    "# Read point cloud"
   ]
  },
  {
   "cell_type": "code",
   "execution_count": null,
   "id": "a980b7cb",
   "metadata": {},
   "outputs": [],
   "source": [
    "pcd = o3d.io.read_point_cloud('RES/10.pcd')\n",
    "pcd = pcd.voxel_down_sample(voxel_size=0.05)\n",
    "points = np.asarray(pcd.points)\n",
    "\n",
    "print('Number of points:', len(points))\n",
    "\n",
    "viz.show_points(points)"
   ]
  },
  {
   "cell_type": "markdown",
   "id": "791e6305",
   "metadata": {},
   "source": [
    "# Help"
   ]
  },
  {
   "cell_type": "code",
   "execution_count": null,
   "id": "0718b37e",
   "metadata": {},
   "outputs": [],
   "source": [
    "help(hpp)"
   ]
  },
  {
   "cell_type": "markdown",
   "id": "cedbd3ce",
   "metadata": {},
   "source": [
    "# Find all planes in the scene"
   ]
  },
  {
   "cell_type": "code",
   "execution_count": null,
   "id": "05818238",
   "metadata": {},
   "outputs": [],
   "source": [
    "planes, points_best = hpp.hough_planes(points, threshold=1000, fi_step=2, theta_step=2)"
   ]
  },
  {
   "cell_type": "code",
   "execution_count": null,
   "id": "f8d181f1",
   "metadata": {},
   "outputs": [],
   "source": [
    "planes"
   ]
  },
  {
   "cell_type": "markdown",
   "id": "a39c70f5",
   "metadata": {},
   "source": [
    "## Vizualize Hough space accumulator \n",
    "### (note that here same cluster at d=40 is splitted into two cue to accumulator structure)"
   ]
  },
  {
   "cell_type": "code",
   "execution_count": null,
   "id": "fb5d8029",
   "metadata": {},
   "outputs": [],
   "source": [
    "viz.show_points(points_best, is_hough_space=True)"
   ]
  },
  {
   "cell_type": "markdown",
   "id": "a81ccdac",
   "metadata": {},
   "source": [
    "## Vizualize resulting planes"
   ]
  },
  {
   "cell_type": "code",
   "execution_count": null,
   "id": "6aa11157",
   "metadata": {},
   "outputs": [],
   "source": [
    "viz.visualize_plane(points, planes[:,:3])"
   ]
  },
  {
   "cell_type": "code",
   "execution_count": null,
   "id": "99b8b22f",
   "metadata": {},
   "outputs": [],
   "source": []
  },
  {
   "cell_type": "markdown",
   "id": "cd0ca7f7",
   "metadata": {},
   "source": [
    "# Variations"
   ]
  },
  {
   "cell_type": "markdown",
   "id": "b0eadde5",
   "metadata": {},
   "source": [
    "## Narrow search by d (lower threshold due to fewer points)"
   ]
  },
  {
   "cell_type": "code",
   "execution_count": null,
   "id": "83e4219f",
   "metadata": {},
   "outputs": [],
   "source": [
    "planes, points_best = hpp.hough_planes(points, threshold=500, fi_step=2, theta_step=2, depth_bounds=(0, 4))\n",
    "\n",
    "viz.visualize_plane(points, planes[:,:3])"
   ]
  },
  {
   "cell_type": "code",
   "execution_count": null,
   "id": "a1e4b3b4",
   "metadata": {},
   "outputs": [],
   "source": [
    "planes, points_best = hpp.hough_planes(points, threshold=1000, fi_step=2, theta_step=2, \n",
    "                                       depth_bounds=(4, None), depth_start_step=0)\n",
    "\n",
    "viz.visualize_plane(points, planes[:,:3])"
   ]
  },
  {
   "cell_type": "code",
   "execution_count": null,
   "id": "705548ed",
   "metadata": {},
   "outputs": [],
   "source": []
  },
  {
   "cell_type": "markdown",
   "id": "666f9e69",
   "metadata": {},
   "source": [
    "## Narrow search by φ and θ with increase in accuracy"
   ]
  },
  {
   "cell_type": "code",
   "execution_count": null,
   "id": "790db860",
   "metadata": {},
   "outputs": [],
   "source": [
    "planes, points_best = hpp.hough_planes(points, threshold=100, \n",
    "                                       fi_step=0.5, fi_bounds=(180+80,180+100),\n",
    "                                       theta_step=0.5, theta_bounds=(80,100),\n",
    "                                       depth_bounds=(0, 4))\n",
    "\n",
    "viz.visualize_plane(points, planes[:,:3])"
   ]
  },
  {
   "cell_type": "code",
   "execution_count": null,
   "id": "8ddb9432",
   "metadata": {},
   "outputs": [],
   "source": []
  },
  {
   "cell_type": "markdown",
   "id": "703171ee",
   "metadata": {},
   "source": [
    "## You can avoid cluster splitting if bounds are selected correctly. Here we have 180° shift in φ bounds:"
   ]
  },
  {
   "cell_type": "code",
   "execution_count": null,
   "id": "63eb6d6d",
   "metadata": {},
   "outputs": [],
   "source": [
    "planes, points_best = hpp.hough_planes(points, threshold=1000, fi_step=2, theta_step=2, \n",
    "                                       fi_bounds=(180,540))\n",
    "\n",
    "viz.show_points(points_best, is_hough_space=True)\n",
    "viz.visualize_plane(points, planes[:,:3])"
   ]
  },
  {
   "cell_type": "code",
   "execution_count": null,
   "id": "d31da681",
   "metadata": {},
   "outputs": [],
   "source": []
  },
  {
   "cell_type": "code",
   "execution_count": null,
   "id": "103c737f",
   "metadata": {},
   "outputs": [],
   "source": []
  }
 ],
 "metadata": {
  "kernelspec": {
   "display_name": "Python 3",
   "language": "python",
   "name": "python3"
  },
  "language_info": {
   "codemirror_mode": {
    "name": "ipython",
    "version": 3
   },
   "file_extension": ".py",
   "mimetype": "text/x-python",
   "name": "python",
   "nbconvert_exporter": "python",
   "pygments_lexer": "ipython3",
   "version": "3.6.13"
  }
 },
 "nbformat": 4,
 "nbformat_minor": 5
}
